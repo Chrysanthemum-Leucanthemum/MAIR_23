{
  "nbformat": 4,
  "nbformat_minor": 0,
  "metadata": {
    "colab": {
      "provenance": [],
      "include_colab_link": true
    },
    "kernelspec": {
      "name": "python3",
      "display_name": "Python 3"
    },
    "language_info": {
      "name": "python"
    }
  },
  "cells": [
    {
      "cell_type": "markdown",
      "metadata": {
        "id": "view-in-github",
        "colab_type": "text"
      },
      "source": [
        "<a href=\"https://colab.research.google.com/github/Chrysanthemum-Leucanthemum/MAIR_23/blob/main/PRDL_Project.ipynb\" target=\"_parent\"><img src=\"https://colab.research.google.com/assets/colab-badge.svg\" alt=\"Open In Colab\"/></a>"
      ]
    },
    {
      "cell_type": "markdown",
      "source": [
        "# Project Pattern Recognition & Deep Learning\n"
      ],
      "metadata": {
        "id": "5uAL6Maz3WPP"
      }
    },
    {
      "cell_type": "markdown",
      "source": [
        "Import modules"
      ],
      "metadata": {
        "id": "UBkOndbT3Zgj"
      }
    },
    {
      "cell_type": "code",
      "execution_count": null,
      "metadata": {
        "id": "wSG3wpSkvmGj"
      },
      "outputs": [],
      "source": [
        "from google.colab import drive\n",
        "import pandas as pd\n",
        "import matplotlib.pyplot as plt\n",
        "import numpy as np\n",
        "from sklearn.linear_model import LogisticRegression\n",
        "from sklearn.preprocessing import scale"
      ]
    },
    {
      "cell_type": "markdown",
      "source": [
        "Mount data"
      ],
      "metadata": {
        "id": "kM69SDu53lNf"
      }
    },
    {
      "cell_type": "code",
      "source": [
        "drive.mount('/content/drive')"
      ],
      "metadata": {
        "id": "ZuQAS0ymwUdt",
        "colab": {
          "base_uri": "https://localhost:8080/"
        },
        "outputId": "ddf347a3-ac94-4b90-ae90-37fbfd0b02ed"
      },
      "execution_count": null,
      "outputs": [
        {
          "output_type": "stream",
          "name": "stdout",
          "text": [
            "Drive already mounted at /content/drive; to attempt to forcibly remount, call drive.mount(\"/content/drive\", force_remount=True).\n"
          ]
        }
      ]
    },
    {
      "cell_type": "markdown",
      "source": [
        "Load data"
      ],
      "metadata": {
        "id": "IjyCvZ2i3u_r"
      }
    },
    {
      "cell_type": "code",
      "source": [
        "mnist_data = pd.read_csv('/content/drive/MyDrive/PRDL - Project/mnist.csv')\n",
        "mnist_data_vals = mnist_data.values"
      ],
      "metadata": {
        "id": "VPZ24T2FwXHD"
      },
      "execution_count": null,
      "outputs": []
    },
    {
      "cell_type": "markdown",
      "source": [
        "Print first image from dataset"
      ],
      "metadata": {
        "id": "_Z3OxWmW3yrR"
      }
    },
    {
      "cell_type": "code",
      "source": [
        "labels = mnist_data_vals[:, 0]\n",
        "digits = mnist_data_vals[:, 1:]\n",
        "img_size = 28\n",
        "plt.imshow(digits[0].reshape(img_size, img_size))\n",
        "plt.show()"
      ],
      "metadata": {
        "colab": {
          "base_uri": "https://localhost:8080/",
          "height": 430
        },
        "id": "qLjgYPQGwhNe",
        "outputId": "79f02066-4251-45c7-c5d2-3191e41bc0f8"
      },
      "execution_count": null,
      "outputs": [
        {
          "output_type": "display_data",
          "data": {
            "text/plain": [
              "<Figure size 640x480 with 1 Axes>"
            ],
            "image/png": "[encoded data removed]"
          },
          "metadata": {}
        }
      ]
    },
    {
      "cell_type": "code",
      "source": [
        "print(mnist_data_vals)"
      ],
      "metadata": {
        "colab": {
          "base_uri": "https://localhost:8080/"
        },
        "id": "gRVLaCigp3oO",
        "outputId": "d2cb700c-0682-4ba8-ac2b-90247c083c81"
      },
      "execution_count": null,
      "outputs": [
        {
          "output_type": "stream",
          "name": "stdout",
          "text": [
            "[[1 0 0 ... 0 0 0]\n",
            " [0 0 0 ... 0 0 0]\n",
            " [1 0 0 ... 0 0 0]\n",
            " ...\n",
            " [7 0 0 ... 0 0 0]\n",
            " [6 0 0 ... 0 0 0]\n",
            " [9 0 0 ... 0 0 0]]\n"
          ]
        }
      ]
    },
    {
      "cell_type": "markdown",
      "source": [
        "### 1. EDA"
      ],
      "metadata": {
        "id": "za9SHiyTwtqo"
      }
    },
    {
      "cell_type": "markdown",
      "source": [
        "Describe the data using describe()\n"
      ],
      "metadata": {
        "id": "OmaTZa_s2S0G"
      }
    },
    {
      "cell_type": "code",
      "source": [
        "data_describe = mnist_data.describe()\n",
        "print(data_describe)\n",
        "#Useless variables are the variables with the lowest variance (std)\n",
        "\n",
        "# To set a threshold for the lowest variance, we need to know the mean of the std\n",
        "mean_variance = data_describe.loc['std'].mean()\n",
        "print(mean_variance)\n",
        "\n",
        "# We set the threshold to 10% of the mean\n",
        "variance_threshold = 0.1*mean_variance\n",
        "cols = data_describe.columns[data_describe.loc['std'] < variance_threshold]\n",
        "print(cols), print(len(cols))\n",
        "\n",
        "\n",
        "\n"
      ],
      "metadata": {
        "colab": {
          "base_uri": "https://localhost:8080/"
        },
        "id": "u99lgWN0wzmK",
        "outputId": "2a7455cf-fd44-451c-adc7-6e7fe413d98e"
      },
      "execution_count": null,
      "outputs": [
        {
          "output_type": "stream",
          "name": "stdout",
          "text": [
            "              label   pixel0   pixel1   pixel2   pixel3   pixel4   pixel5  \\\n",
            "count  42000.000000  42000.0  42000.0  42000.0  42000.0  42000.0  42000.0   \n",
            "mean       4.456643      0.0      0.0      0.0      0.0      0.0      0.0   \n",
            "std        2.887730      0.0      0.0      0.0      0.0      0.0      0.0   \n",
            "min        0.000000      0.0      0.0      0.0      0.0      0.0      0.0   \n",
            "25%        2.000000      0.0      0.0      0.0      0.0      0.0      0.0   \n",
            "50%        4.000000      0.0      0.0      0.0      0.0      0.0      0.0   \n",
            "75%        7.000000      0.0      0.0      0.0      0.0      0.0      0.0   \n",
            "max        9.000000      0.0      0.0      0.0      0.0      0.0      0.0   \n",
            "\n",
            "        pixel6   pixel7   pixel8  ...      pixel774      pixel775  \\\n",
            "count  42000.0  42000.0  42000.0  ...  42000.000000  42000.000000   \n",
            "mean       0.0      0.0      0.0  ...      0.219286      0.117095   \n",
            "std        0.0      0.0      0.0  ...      6.312890      4.633819   \n",
            "min        0.0      0.0      0.0  ...      0.000000      0.000000   \n",
            "25%        0.0      0.0      0.0  ...      0.000000      0.000000   \n",
            "50%        0.0      0.0      0.0  ...      0.000000      0.000000   \n",
            "75%        0.0      0.0      0.0  ...      0.000000      0.000000   \n",
            "max        0.0      0.0      0.0  ...    254.000000    254.000000   \n",
            "\n",
            "           pixel776     pixel777      pixel778      pixel779  pixel780  \\\n",
            "count  42000.000000  42000.00000  42000.000000  42000.000000   42000.0   \n",
            "mean       0.059024      0.02019      0.017238      0.002857       0.0   \n",
            "std        3.274488      1.75987      1.894498      0.414264       0.0   \n",
            "min        0.000000      0.00000      0.000000      0.000000       0.0   \n",
            "25%        0.000000      0.00000      0.000000      0.000000       0.0   \n",
            "50%        0.000000      0.00000      0.000000      0.000000       0.0   \n",
            "75%        0.000000      0.00000      0.000000      0.000000       0.0   \n",
            "max      253.000000    253.00000    254.000000     62.000000       0.0   \n",
            "\n",
            "       pixel781  pixel782  pixel783  \n",
            "count   42000.0   42000.0   42000.0  \n",
            "mean        0.0       0.0       0.0  \n",
            "std         0.0       0.0       0.0  \n",
            "min         0.0       0.0       0.0  \n",
            "25%         0.0       0.0       0.0  \n",
            "50%         0.0       0.0       0.0  \n",
            "75%         0.0       0.0       0.0  \n",
            "max         0.0       0.0       0.0  \n",
            "\n",
            "[8 rows x 785 columns]\n",
            "49.24820107698632\n",
            "Index(['label', 'pixel0', 'pixel1', 'pixel2', 'pixel3', 'pixel4', 'pixel5',\n",
            "       'pixel6', 'pixel7', 'pixel8',\n",
            "       ...\n",
            "       'pixel764', 'pixel775', 'pixel776', 'pixel777', 'pixel778', 'pixel779',\n",
            "       'pixel780', 'pixel781', 'pixel782', 'pixel783'],\n",
            "      dtype='object', length=200)\n",
            "200\n"
          ]
        },
        {
          "output_type": "execute_result",
          "data": {
            "text/plain": [
              "(None, None)"
            ]
          },
          "metadata": {},
          "execution_count": 62
        }
      ]
    },
    {
      "cell_type": "markdown",
      "source": [
        "Checking and plotting the distribution"
      ],
      "metadata": {
        "id": "H4b-MxJE284p"
      }
    },
    {
      "cell_type": "code",
      "source": [
        "class_distribution = mnist_data['label'].value_counts(normalize=True)\n",
        "print(class_distribution)"
      ],
      "metadata": {
        "colab": {
          "base_uri": "https://localhost:8080/"
        },
        "id": "uWXiaqIT1U5k",
        "outputId": "e1ccbf57-0387-4662-89dd-0fb82db717e9"
      },
      "execution_count": null,
      "outputs": [
        {
          "output_type": "stream",
          "name": "stdout",
          "text": [
            "1    0.111524\n",
            "7    0.104786\n",
            "3    0.103595\n",
            "9    0.099714\n",
            "2    0.099452\n",
            "6    0.098500\n",
            "0    0.098381\n",
            "4    0.096952\n",
            "8    0.096738\n",
            "5    0.090357\n",
            "Name: label, dtype: float64\n"
          ]
        }
      ]
    },
    {
      "cell_type": "code",
      "source": [
        "# Plot class distribution\n",
        "\n",
        "X = mnist_data.iloc[:,1:]\n",
        "y = mnist_data.iloc[:,0]\n",
        "\n",
        "plt.bar(np.unique(y), np.bincount(y))\n",
        "plt.title('Class Distribution')\n",
        "plt.xlabel('Digit')\n",
        "plt.ylabel('Count')\n",
        "plt.show()"
      ],
      "metadata": {
        "colab": {
          "base_uri": "https://localhost:8080/",
          "height": 472
        },
        "id": "t2HWThIi27Tk",
        "outputId": "0826c2b4-a6a1-4062-d740-373431a542d6"
      },
      "execution_count": null,
      "outputs": [
        {
          "output_type": "display_data",
          "data": {
            "text/plain": [
              "<Figure size 640x480 with 1 Axes>"
            ],
            "image/png": "[encoded data removed]"
          },
          "metadata": {}
        }
      ]
    },
    {
      "cell_type": "markdown",
      "source": [
        "Correctly predicting the majority class"
      ],
      "metadata": {
        "id": "GRp99k9P3G7F"
      }
    },
    {
      "cell_type": "code",
      "source": [
        "majority_class_percentage = class_distribution.max()\n",
        "print(f\"Percentage of cases classified correctly by predicting the majority class: {majority_class_percentage * 100}%\")\n"
      ],
      "metadata": {
        "colab": {
          "base_uri": "https://localhost:8080/"
        },
        "id": "LG1Wcg3-12ww",
        "outputId": "c718bb57-418c-4ef2-a94c-53562254aa7a"
      },
      "execution_count": null,
      "outputs": [
        {
          "output_type": "stream",
          "name": "stdout",
          "text": [
            "Percentage of cases classified correctly by predicting the majority class: 11.152380952380952%\n"
          ]
        }
      ]
    },
    {
      "cell_type": "markdown",
      "source": [
        "### 2. Ink ratio"
      ],
      "metadata": {
        "id": "QB5UgH-J7Y3_"
      }
    },
    {
      "cell_type": "code",
      "source": [
        "# create ink feature\n",
        "ink = np.array([sum(row) for row in digits])\n",
        "# compute mean for each digit class\n",
        "ink_mean = [np.mean(ink[labels == i]) for i in range(10)]\n",
        "# compute standard deviation for each digit class\n",
        "ink_std = [np.std(ink[labels == i]) for i in range(10)]"
      ],
      "metadata": {
        "id": "R25_itOK7fxc"
      },
      "execution_count": null,
      "outputs": []
    },
    {
      "cell_type": "code",
      "source": [
        "mnist_data['ink_feature'] = ink"
      ],
      "metadata": {
        "id": "TIUt6OgY99gK"
      },
      "execution_count": null,
      "outputs": []
    },
    {
      "cell_type": "code",
      "source": [
        "# The more the values are similar, the harder it is to distinguish between the digits\n",
        "\n",
        "print(len(ink)), print(ink_mean), print(ink_std)"
      ],
      "metadata": {
        "colab": {
          "base_uri": "https://localhost:8080/"
        },
        "id": "lHz19tcV7qr2",
        "outputId": "d521a6c4-ad69-455e-f6a1-3185cef997f2"
      },
      "execution_count": null,
      "outputs": [
        {
          "output_type": "stream",
          "name": "stdout",
          "text": [
            "42000\n",
            "[34632.40755082285, 15188.466268146884, 29871.099353603066, 28320.188002757986, 24232.72249508841, 25835.920421607378, 27734.917331399563, 22931.244262667577, 30184.148412503077, 24553.75]\n",
            "[8461.892043158483, 4409.461697281539, 7653.006198983366, 7574.104535679545, 6374.633457092554, 7526.602988920305, 7530.503187255003, 6168.3408781754315, 7777.396357381105, 6465.231330430596]\n"
          ]
        },
        {
          "output_type": "execute_result",
          "data": {
            "text/plain": [
              "(None, None, None)"
            ]
          },
          "metadata": {},
          "execution_count": 68
        }
      ]
    },
    {
      "cell_type": "code",
      "source": [
        "import matplotlib.pyplot as plt\n",
        "\n",
        "# Select a few classes for which you want to plot histograms\n",
        "selected_classes = [0, 1, 2, 3,4,5,6,7,8,9]\n",
        "\n",
        "# Plot histograms for each selected class\n",
        "plt.figure(figsize=(12, 8))\n",
        "\n",
        "for class_label in selected_classes:\n",
        "    plt.hist(mnist_data[mnist_data['label'] == class_label]['ink_feature'], bins=30, alpha=0.5, label=f'Class {class_label}')\n",
        "\n",
        "plt.title('Distribution of Ink Feature for Selected Classes')\n",
        "plt.xlabel('Ink Feature')\n",
        "plt.ylabel('Frequency')\n",
        "plt.legend()\n",
        "plt.show()\n",
        "\n",
        "xpoints = np.array([1, 8])\n",
        "ypoints = np.array([3, 10])\n",
        "\n",
        "plt.plot(xpoints, ypoints)\n",
        "plt.show()"
      ],
      "metadata": {
        "colab": {
          "base_uri": "https://localhost:8080/",
          "height": 718
        },
        "id": "bld1flS7-HyP",
        "outputId": "68a35735-6c59-4d21-ce17-dda0a3ba01a6"
      },
      "execution_count": null,
      "outputs": [
        {
          "output_type": "display_data",
          "data": {
            "text/plain": [
              "<Figure size 1200x800 with 1 Axes>"
            ],
            "image/png": "[encoded data removed]"
          },
          "metadata": {}
        }
      ]
    },
    {
      "cell_type": "code",
      "source": [
        "import matplotlib.pyplot as plt\n",
        "\n",
        "\n",
        "height_mean = ink_mean\n",
        "bars = (0,1,2,3,4,5,6,7,8,9)\n",
        "y_pos = np.arange(len(bars))\n",
        "\n",
        "\n",
        "plt.bar(y_pos, height_mean)\n",
        "\n",
        "\n",
        "plt.xticks(y_pos, bars)\n",
        "plt.show()"
      ],
      "metadata": {
        "colab": {
          "base_uri": "https://localhost:8080/",
          "height": 430
        },
        "id": "dJHh2vAr7_V-",
        "outputId": "63bf513d-e1b9-4e90-d69e-a375ae000e11"
      },
      "execution_count": null,
      "outputs": [
        {
          "output_type": "display_data",
          "data": {
            "text/plain": [
              "<Figure size 640x480 with 1 Axes>"
            ],
            "image/png": "[encoded data removed]"
          },
          "metadata": {}
        }
      ]
    },
    {
      "cell_type": "code",
      "source": [
        "import matplotlib.pyplot as plt\n",
        "\n",
        "\n",
        "height_std = ink_std\n",
        "bars = (0,1,2,3,4,5,6,7,8,9)\n",
        "y_pos = np.arange(len(bars))\n",
        "\n",
        "\n",
        "plt.bar(y_pos, height_std)\n",
        "\n",
        "\n",
        "plt.xticks(y_pos, bars)\n",
        "plt.show()"
      ],
      "metadata": {
        "colab": {
          "base_uri": "https://localhost:8080/",
          "height": 430
        },
        "id": "2vzUbtE19wR6",
        "outputId": "60b02634-fcea-4728-fc18-fc036db214e6"
      },
      "execution_count": null,
      "outputs": [
        {
          "output_type": "display_data",
          "data": {
            "text/plain": [
              "<Figure size 640x480 with 1 Axes>"
            ],
            "image/png": "[encoded data removed]"
          },
          "metadata": {}
        }
      ]
    },
    {
      "cell_type": "code",
      "source": [
        "X_mlm = scale(mnist_data['ink_feature']).reshape(-1,1)\n",
        "clf = LogisticRegression(solver='sag', max_iter=100, random_state=42,multi_class='multinomial').fit(X_mlm, y)"
      ],
      "metadata": {
        "id": "kyjlCOlM6V0m"
      },
      "execution_count": null,
      "outputs": []
    },
    {
      "cell_type": "code",
      "source": [
        "print(\"training score : %.3f (%s)\" % (clf.score(X_mlm, y), 'multinomial'))"
      ],
      "metadata": {
        "colab": {
          "base_uri": "https://localhost:8080/"
        },
        "id": "YLS4qSOOnzXJ",
        "outputId": "35cc80c2-654e-4315-8239-91e1dc239b84"
      },
      "execution_count": null,
      "outputs": [
        {
          "output_type": "stream",
          "name": "stdout",
          "text": [
            "training score : 0.227 (multinomial)\n"
          ]
        }
      ]
    },
    {
      "cell_type": "markdown",
      "source": [
        "### Feature Aspect Ratio=(Width/Height)"
      ],
      "metadata": {
        "id": "aRtVvhveoLL3"
      }
    },
    {
      "cell_type": "code",
      "source": [
        "# create aspect-ratio feature\n",
        "\n",
        "\n",
        "mnist_data_clean = mnist_data.iloc[:,1:-1]\n",
        "\n",
        "mnist_data_clean_arr = np.array(mnist_data_clean)\n"
      ],
      "metadata": {
        "id": "GFtukfnkoKba"
      },
      "execution_count": null,
      "outputs": []
    },
    {
      "cell_type": "code",
      "source": [
        "len(mnist_data_clean_arr[0])"
      ],
      "metadata": {
        "colab": {
          "base_uri": "https://localhost:8080/"
        },
        "id": "i4fqB46dpvn-",
        "outputId": "ee261961-5847-447e-e9d6-6c1a73202db3"
      },
      "execution_count": null,
      "outputs": [
        {
          "output_type": "execute_result",
          "data": {
            "text/plain": [
              "784"
            ]
          },
          "metadata": {},
          "execution_count": 75
        }
      ]
    },
    {
      "cell_type": "code",
      "source": [
        "c = np.array([0,0,0,0,0,1,0,1,0,0,0,3,0,0,0,0])\n",
        "print(len(c))"
      ],
      "metadata": {
        "colab": {
          "base_uri": "https://localhost:8080/"
        },
        "id": "zq54J0bhrj9L",
        "outputId": "be00db72-cd03-45af-8026-d5e5b08bea63"
      },
      "execution_count": null,
      "outputs": [
        {
          "output_type": "stream",
          "name": "stdout",
          "text": [
            "16\n"
          ]
        }
      ]
    },
    {
      "cell_type": "code",
      "source": [
        "v = np.array(np.array_split(c,4))"
      ],
      "metadata": {
        "id": "0Gfs0tIMt1Eb"
      },
      "execution_count": null,
      "outputs": []
    },
    {
      "cell_type": "code",
      "source": [
        "v"
      ],
      "metadata": {
        "colab": {
          "base_uri": "https://localhost:8080/"
        },
        "id": "OnIKCw_jGwEi",
        "outputId": "cfccd2f4-ba9a-4a50-c305-808c3f19cdba"
      },
      "execution_count": null,
      "outputs": [
        {
          "output_type": "execute_result",
          "data": {
            "text/plain": [
              "array([[0, 0, 0, 0],\n",
              "       [0, 1, 0, 1],\n",
              "       [0, 0, 0, 3],\n",
              "       [0, 0, 0, 0]])"
            ]
          },
          "metadata": {},
          "execution_count": 106
        }
      ]
    },
    {
      "cell_type": "code",
      "source": [
        "def aspect_ratio(arr):\n",
        "    height,width=[],[]\n",
        "    arr = np.array(np.array_split(arr,28))\n",
        "    for i in arr:\n",
        "        w = np.where(i != 0)[0]\n",
        "        if len(w)>0:\n",
        "            width.append(w)\n",
        "    for j in range(arr.shape[1]):\n",
        "        h = np.where(arr[:,j] != 0)[0]\n",
        "        if len(h)>0:\n",
        "            height.append(h)\n",
        "\n",
        "    width_high, width_low = width[-1], width[0]\n",
        "    height_high, height_low = height[-1], height[0]\n",
        "\n",
        "    if len(width_high)>1:\n",
        "        width_high = width_high[-1]\n",
        "    if len(height_high)>1:\n",
        "        height_high = height_high[-1]\n",
        "    if len(width_low)>1:\n",
        "        width_low = width_low[0]\n",
        "    if len(height_low)>1:\n",
        "        height_low = height_low[0]\n",
        "    if height_high - height_low == 0:\n",
        "        aspect_ratio = 0\n",
        "        return aspect_ratio\n",
        "    else:\n",
        "        aspect_ratio = (width_high - width_low)/(height_high - height_low)\n",
        "        return aspect_ratio\n",
        "\n",
        "ar = []\n",
        "for p in mnist_data_clean_arr:\n",
        "    t = aspect_ratio(p)\n",
        "    ar.append(t)\n",
        "\n",
        "\n"
      ],
      "metadata": {
        "id": "1kcw9mblt4HZ"
      },
      "execution_count": null,
      "outputs": []
    },
    {
      "cell_type": "code",
      "source": [
        "ar\n"
      ],
      "metadata": {
        "colab": {
          "base_uri": "https://localhost:8080/"
        },
        "id": "5rD4c638vIsU",
        "outputId": "5af013dd-2e16-4cc4-b35f-5bbde2dd2860"
      },
      "execution_count": null,
      "outputs": [
        {
          "output_type": "execute_result",
          "data": {
            "text/plain": [
              "[0.7142857142857143,\n",
              " 2.6666666666666665,\n",
              " 0.15789473684210525,\n",
              " 0.7894736842105263,\n",
              " 1.125,\n",
              " -1.0,\n",
              " -2.0,\n",
              " array([-1.125]),\n",
              " -0.25,\n",
              " -2.3333333333333335,\n",
              " -0.18181818181818182,\n",
              " 2.0,\n",
              " -0.0,\n",
              " 1.0,\n",
              " -1.5,\n",
              " 0.2,\n",
              " 0.6666666666666666,\n",
              " 1.0,\n",
              " 0.5,\n",
              " 1.1,\n",
              " -0.08333333333333333,\n",
              " 2.3333333333333335,\n",
              " 0.06666666666666667,\n",
              " 1.1666666666666667,\n",
              " 0.7692307692307693,\n",
              " -0.4,\n",
              " 0.8333333333333334,\n",
              " array([0.25]),\n",
              " 0.0,\n",
              " 2.75,\n",
              " 0.3,\n",
              " 0.5833333333333334,\n",
              " -0.5,\n",
              " -0.0,\n",
              " 0.8571428571428571,\n",
              " 0.3125,\n",
              " 2.0,\n",
              " -1.0,\n",
              " 0.3333333333333333,\n",
              " 5.0,\n",
              " -0.09090909090909091,\n",
              " -0.3333333333333333,\n",
              " 1.6,\n",
              " 0.3333333333333333,\n",
              " 1.4545454545454546,\n",
              " -0.2,\n",
              " -0.46153846153846156,\n",
              " 1.5714285714285714,\n",
              " 0.3125,\n",
              " 0,\n",
              " array([8.]),\n",
              " 1.1818181818181819,\n",
              " -0.09090909090909091,\n",
              " 0.6875,\n",
              " -0.6666666666666666,\n",
              " 4.5,\n",
              " 0.8571428571428571,\n",
              " -2.6666666666666665,\n",
              " -2.5,\n",
              " 0.125,\n",
              " array([4.5]),\n",
              " 2.0,\n",
              " 0.5,\n",
              " -2.0,\n",
              " 0.8,\n",
              " 0.38461538461538464,\n",
              " 10.0,\n",
              " 0.8571428571428571,\n",
              " 0.26666666666666666,\n",
              " 0.75,\n",
              " -0.0,\n",
              " 0.0,\n",
              " 1.5,\n",
              " -4.0,\n",
              " 0.25,\n",
              " 1.2857142857142858,\n",
              " array([0.86666667]),\n",
              " -0.0,\n",
              " 1.2,\n",
              " 0.4444444444444444,\n",
              " 0.7142857142857143,\n",
              " -5.0,\n",
              " -0.1,\n",
              " 0.75,\n",
              " 0.3333333333333333,\n",
              " 0.5833333333333334,\n",
              " 0,\n",
              " 0.7142857142857143,\n",
              " 1.0,\n",
              " 0.8571428571428571,\n",
              " 0.4666666666666667,\n",
              " -1.3333333333333333,\n",
              " -1.0,\n",
              " 0.3333333333333333,\n",
              " 0.45454545454545453,\n",
              " array([0.33333333]),\n",
              " 0.14285714285714285,\n",
              " 1.0,\n",
              " 1.25,\n",
              " -0.45454545454545453,\n",
              " array([0.66666667]),\n",
              " 0.9375,\n",
              " -0.4,\n",
              " 1.1428571428571428,\n",
              " -0.2,\n",
              " 0.09090909090909091,\n",
              " 0.5,\n",
              " 0.6428571428571429,\n",
              " 0.6666666666666666,\n",
              " 2.0,\n",
              " 0.8333333333333334,\n",
              " 0,\n",
              " 4.0,\n",
              " 0.6842105263157895,\n",
              " 0,\n",
              " 0.8666666666666667,\n",
              " -1.5,\n",
              " 0.13333333333333333,\n",
              " 0.5,\n",
              " -7.0,\n",
              " 3.5,\n",
              " array([-1.]),\n",
              " 0.7142857142857143,\n",
              " 0.5882352941176471,\n",
              " 0.42857142857142855,\n",
              " -0.3333333333333333,\n",
              " 0.375,\n",
              " 1.75,\n",
              " 0.5,\n",
              " -0.5,\n",
              " -1.5714285714285714,\n",
              " 1.6,\n",
              " -0.25,\n",
              " 1.0,\n",
              " 0.4,\n",
              " 0.2727272727272727,\n",
              " 2.0,\n",
              " 0,\n",
              " 1.5714285714285714,\n",
              " -1.2857142857142858,\n",
              " 0,\n",
              " 0,\n",
              " 0.3333333333333333,\n",
              " 2.5,\n",
              " 0.1,\n",
              " 0.9,\n",
              " -0.5,\n",
              " -1.25,\n",
              " 1.5,\n",
              " 0.5714285714285714,\n",
              " -4.0,\n",
              " 0.14285714285714285,\n",
              " 0.3333333333333333,\n",
              " 0.5,\n",
              " 0.08333333333333333,\n",
              " 0.2727272727272727,\n",
              " 0.3333333333333333,\n",
              " 0.16666666666666666,\n",
              " 3.5,\n",
              " 1.4285714285714286,\n",
              " 0.3333333333333333,\n",
              " 0.75,\n",
              " -0.5555555555555556,\n",
              " 4.0,\n",
              " 0.3333333333333333,\n",
              " -0.6666666666666666,\n",
              " 2.0,\n",
              " 0,\n",
              " -7.5,\n",
              " -7.0,\n",
              " 1.0,\n",
              " array([-2.]),\n",
              " -0.0,\n",
              " 2.0,\n",
              " -0.2222222222222222,\n",
              " 0.5294117647058824,\n",
              " 0.875,\n",
              " -0.16666666666666666,\n",
              " 0,\n",
              " 1.0666666666666667,\n",
              " 0,\n",
              " array([0.58333333]),\n",
              " 0.38461538461538464,\n",
              " 1.3333333333333333,\n",
              " -0.5,\n",
              " 0.5,\n",
              " -0.0,\n",
              " -2.0,\n",
              " -0.0,\n",
              " 0.8571428571428571,\n",
              " -0.125,\n",
              " 1.0,\n",
              " array([1.66666667]),\n",
              " 1.25,\n",
              " array([0.42857143]),\n",
              " 2.5,\n",
              " 0.75,\n",
              " array([0.41666667]),\n",
              " 0.9285714285714286,\n",
              " 1.3333333333333333,\n",
              " 1.3333333333333333,\n",
              " 0.0,\n",
              " 1.0,\n",
              " 0.5714285714285714,\n",
              " 0,\n",
              " 1.2857142857142858,\n",
              " 0,\n",
              " -0.2857142857142857,\n",
              " 0.23076923076923078,\n",
              " 0.2222222222222222,\n",
              " 2.0,\n",
              " 0.6666666666666666,\n",
              " 0.5384615384615384,\n",
              " 1.5,\n",
              " 7.0,\n",
              " 0.5,\n",
              " -3.0,\n",
              " 1.0,\n",
              " 0.5,\n",
              " 0.3333333333333333,\n",
              " 0.3333333333333333,\n",
              " 0.25,\n",
              " 4.0,\n",
              " 4.0,\n",
              " 0.375,\n",
              " 6.0,\n",
              " 2.4,\n",
              " 1.0,\n",
              " -4.0,\n",
              " 2.5,\n",
              " -1.0,\n",
              " 0.8888888888888888,\n",
              " -0.36363636363636365,\n",
              " 0.5294117647058824,\n",
              " 0.3076923076923077,\n",
              " 0.1111111111111111,\n",
              " 0.0,\n",
              " -0.5,\n",
              " array([0.66666667]),\n",
              " 10.0,\n",
              " 0.0,\n",
              " 0.1111111111111111,\n",
              " 2.3333333333333335,\n",
              " 0.2,\n",
              " 1.0,\n",
              " 0.4166666666666667,\n",
              " 0,\n",
              " 7.0,\n",
              " 0.6666666666666666,\n",
              " array([0.5]),\n",
              " -0.0,\n",
              " 1.5,\n",
              " 0.6666666666666666,\n",
              " -0.25,\n",
              " 1.0,\n",
              " 0.6,\n",
              " 0.23529411764705882,\n",
              " 0.18181818181818182,\n",
              " 5.0,\n",
              " array([8.]),\n",
              " 1.0,\n",
              " 0,\n",
              " 2.0,\n",
              " 0.8235294117647058,\n",
              " 0.0,\n",
              " 0.2727272727272727,\n",
              " 0.0,\n",
              " 1.3333333333333333,\n",
              " 0,\n",
              " array([0.92857143]),\n",
              " -0.25,\n",
              " 0.5,\n",
              " 2.0,\n",
              " 1.3333333333333333,\n",
              " 5.5,\n",
              " -0.5,\n",
              " 0,\n",
              " -0.0,\n",
              " 0.0,\n",
              " 0,\n",
              " 4.0,\n",
              " 0.26666666666666666,\n",
              " 0.5882352941176471,\n",
              " -1.25,\n",
              " array([-0.25]),\n",
              " 1.0,\n",
              " 0.75,\n",
              " 0.1875,\n",
              " 0.875,\n",
              " 0,\n",
              " 0.0,\n",
              " 1.25,\n",
              " -1.5,\n",
              " 0.7,\n",
              " 1.8571428571428572,\n",
              " 0.2631578947368421,\n",
              " 1.0,\n",
              " 0.7333333333333333,\n",
              " 7.0,\n",
              " 1.6666666666666667,\n",
              " -0.2727272727272727,\n",
              " -0.3333333333333333,\n",
              " -1.0,\n",
              " 0.45454545454545453,\n",
              " -3.0,\n",
              " 0.1,\n",
              " 2.0,\n",
              " 0.625,\n",
              " 0,\n",
              " 0.7647058823529411,\n",
              " 0.6,\n",
              " 0.7857142857142857,\n",
              " -1.5,\n",
              " 0.3076923076923077,\n",
              " -0.5,\n",
              " 1.0,\n",
              " 0,\n",
              " -0.5,\n",
              " 1.0,\n",
              " 0.2222222222222222,\n",
              " 0.7692307692307693,\n",
              " 0.6666666666666666,\n",
              " 0.6363636363636364,\n",
              " 1.0,\n",
              " 4.0,\n",
              " 0.3333333333333333,\n",
              " 0.25,\n",
              " 0.8888888888888888,\n",
              " 0.1875,\n",
              " -1.25,\n",
              " -0.3333333333333333,\n",
              " -0.0,\n",
              " -0.0,\n",
              " -8.0,\n",
              " 0.8666666666666667,\n",
              " 0.21052631578947367,\n",
              " 2.3333333333333335,\n",
              " -0.08333333333333333,\n",
              " 1.0,\n",
              " -0.0,\n",
              " array([0.5]),\n",
              " 1.1666666666666667,\n",
              " 0.47058823529411764,\n",
              " 4.0,\n",
              " 0.6666666666666666,\n",
              " 0.14285714285714285,\n",
              " 0.18181818181818182,\n",
              " -4.0,\n",
              " 0.5714285714285714,\n",
              " -1.0,\n",
              " 1.5,\n",
              " -0.0,\n",
              " 1.6,\n",
              " -1.75,\n",
              " 0.8,\n",
              " -0.45454545454545453,\n",
              " 3.0,\n",
              " 0.875,\n",
              " 2.3333333333333335,\n",
              " 1.0,\n",
              " array([-0.66666667]),\n",
              " array([0.33333333]),\n",
              " -0.0,\n",
              " -1.3333333333333333,\n",
              " -12.0,\n",
              " 1.2857142857142858,\n",
              " 1.1666666666666667,\n",
              " 0.38461538461538464,\n",
              " 0,\n",
              " 0.6666666666666666,\n",
              " 0.8823529411764706,\n",
              " 0.15789473684210525,\n",
              " array([-3.]),\n",
              " 0.6666666666666666,\n",
              " 0.25,\n",
              " 0.8333333333333334,\n",
              " -1.5,\n",
              " 0,\n",
              " -2.0,\n",
              " -0.8461538461538461,\n",
              " 0.42857142857142855,\n",
              " -0.0,\n",
              " array([11.]),\n",
              " 1.2307692307692308,\n",
              " 1.0,\n",
              " 1.0,\n",
              " -2.0,\n",
              " 0.45454545454545453,\n",
              " 0.15789473684210525,\n",
              " array([-0.13333333]),\n",
              " 0.29411764705882354,\n",
              " 0.9090909090909091,\n",
              " 0.7692307692307693,\n",
              " -2.0,\n",
              " -0.0,\n",
              " array([-0.0625]),\n",
              " -0.5,\n",
              " -0.2,\n",
              " array([1.1]),\n",
              " 0.0,\n",
              " 0.2631578947368421,\n",
              " 0.25,\n",
              " 0,\n",
              " 0,\n",
              " 0.8333333333333334,\n",
              " -0.38461538461538464,\n",
              " 1.3333333333333333,\n",
              " 1.0,\n",
              " 1.0,\n",
              " 9.0,\n",
              " 2.6666666666666665,\n",
              " -0.1111111111111111,\n",
              " 0.6363636363636364,\n",
              " 2.6666666666666665,\n",
              " 1.5,\n",
              " 0,\n",
              " 1.3333333333333333,\n",
              " 0.7777777777777778,\n",
              " 0.4,\n",
              " 0.2222222222222222,\n",
              " 1.0,\n",
              " 0.46153846153846156,\n",
              " array([0.35714286]),\n",
              " -0.0,\n",
              " 0.15789473684210525,\n",
              " 0.18181818181818182,\n",
              " 0.13333333333333333,\n",
              " array([2.]),\n",
              " 0,\n",
              " 0,\n",
              " -2.5,\n",
              " 4.0,\n",
              " 0.8235294117647058,\n",
              " 2.0,\n",
              " 0.08333333333333333,\n",
              " 2.0,\n",
              " 1.25,\n",
              " 0.3333333333333333,\n",
              " 1.25,\n",
              " 1.5,\n",
              " -4.0,\n",
              " 0.6666666666666666,\n",
              " 0.35714285714285715,\n",
              " 1.0,\n",
              " -0.4,\n",
              " 1.5,\n",
              " -1.1666666666666667,\n",
              " 0,\n",
              " -1.5,\n",
              " 2.5,\n",
              " 0.875,\n",
              " -0.0,\n",
              " -1.0,\n",
              " array([0.375]),\n",
              " 0.45454545454545453,\n",
              " 0.5,\n",
              " -0.75,\n",
              " 4.0,\n",
              " -0.09090909090909091,\n",
              " 0.7857142857142857,\n",
              " 0.14285714285714285,\n",
              " -0.21428571428571427,\n",
              " 1.1333333333333333,\n",
              " 0.625,\n",
              " 0.8461538461538461,\n",
              " -2.0,\n",
              " 0.3076923076923077,\n",
              " 4.0,\n",
              " 0.35294117647058826,\n",
              " 0.7142857142857143,\n",
              " 0.4666666666666667,\n",
              " 0.6666666666666666,\n",
              " 1.5,\n",
              " 1.6,\n",
              " 0,\n",
              " -0.0,\n",
              " -0.0,\n",
              " 2.8,\n",
              " 0,\n",
              " 3.0,\n",
              " 0.3125,\n",
              " 0.5384615384615384,\n",
              " array([-4.]),\n",
              " 0.4,\n",
              " array([0.25]),\n",
              " -0.07142857142857142,\n",
              " 0,\n",
              " 1.3333333333333333,\n",
              " 0,\n",
              " -3.0,\n",
              " 0.16666666666666666,\n",
              " 0.45454545454545453,\n",
              " 1.0,\n",
              " array([0.85714286]),\n",
              " 0.8333333333333334,\n",
              " 0.2,\n",
              " 0.2,\n",
              " 0.16666666666666666,\n",
              " 2.3333333333333335,\n",
              " 0.7777777777777778,\n",
              " 2.0,\n",
              " -0.6666666666666666,\n",
              " -2.0,\n",
              " -1.0,\n",
              " 0.6666666666666666,\n",
              " 1.5,\n",
              " -0.8888888888888888,\n",
              " 0.7777777777777778,\n",
              " 1.1428571428571428,\n",
              " 1.0,\n",
              " 0.6428571428571429,\n",
              " -0.7777777777777778,\n",
              " 0.18181818181818182,\n",
              " 4.333333333333333,\n",
              " -0.2,\n",
              " 0.5555555555555556,\n",
              " 0.36363636363636365,\n",
              " -0.6666666666666666,\n",
              " 0.14285714285714285,\n",
              " -0.21428571428571427,\n",
              " -6.0,\n",
              " 1.0,\n",
              " 0.45454545454545453,\n",
              " 0,\n",
              " 0,\n",
              " 0.6,\n",
              " 0.4444444444444444,\n",
              " 0.16666666666666666,\n",
              " -0.375,\n",
              " 0.15789473684210525,\n",
              " 0.14285714285714285,\n",
              " 2.0,\n",
              " 0.75,\n",
              " -0.15384615384615385,\n",
              " 1.3333333333333333,\n",
              " 0.7222222222222222,\n",
              " -1.5,\n",
              " 6.0,\n",
              " 1.3333333333333333,\n",
              " 0.25,\n",
              " 0.4666666666666667,\n",
              " -4.0,\n",
              " 1.0,\n",
              " 0.6666666666666666,\n",
              " 0.125,\n",
              " 1.7142857142857142,\n",
              " 1.8,\n",
              " -3.0,\n",
              " array([0.58333333]),\n",
              " 0.5714285714285714,\n",
              " 0.8181818181818182,\n",
              " 0.25,\n",
              " 0.5,\n",
              " 0.3333333333333333,\n",
              " 1.25,\n",
              " 0.3333333333333333,\n",
              " 0.5,\n",
              " -0.3333333333333333,\n",
              " 0,\n",
              " 4.666666666666667,\n",
              " -6.0,\n",
              " 0.3,\n",
              " 0,\n",
              " 0.75,\n",
              " 0.0,\n",
              " 0.6153846153846154,\n",
              " -2.5,\n",
              " 2.3333333333333335,\n",
              " 3.3333333333333335,\n",
              " -0.4,\n",
              " 0.3,\n",
              " 2.0,\n",
              " 1.4,\n",
              " array([0.]),\n",
              " 7.5,\n",
              " 2.0,\n",
              " 0.0,\n",
              " -0.3333333333333333,\n",
              " 0.75,\n",
              " 5.0,\n",
              " 0.8888888888888888,\n",
              " -3.0,\n",
              " -0.08333333333333333,\n",
              " 1.6666666666666667,\n",
              " 1.0,\n",
              " 0,\n",
              " 1.0,\n",
              " 0.5625,\n",
              " 1.5,\n",
              " 1.5,\n",
              " 0.21428571428571427,\n",
              " 1.3333333333333333,\n",
              " 0.21428571428571427,\n",
              " 1.375,\n",
              " 0.18181818181818182,\n",
              " 2.0,\n",
              " 0.9333333333333333,\n",
              " 0.1111111111111111,\n",
              " -0.0,\n",
              " 2.5,\n",
              " 0.0,\n",
              " 1.2,\n",
              " 0,\n",
              " 0.6666666666666666,\n",
              " 1.0,\n",
              " 0.6,\n",
              " 1.0769230769230769,\n",
              " 2.0,\n",
              " 2.0,\n",
              " 1.5,\n",
              " -0.6363636363636364,\n",
              " 0,\n",
              " 0.7692307692307693,\n",
              " 4.5,\n",
              " 0.07692307692307693,\n",
              " 0.5,\n",
              " 0.6470588235294118,\n",
              " 0.0,\n",
              " 0,\n",
              " -0.8333333333333334,\n",
              " array([-0.]),\n",
              " 1.0,\n",
              " 0.6111111111111112,\n",
              " 1.4,\n",
              " 0.75,\n",
              " 0.3333333333333333,\n",
              " -0.5,\n",
              " -1.0,\n",
              " 0.8,\n",
              " 1.0,\n",
              " 0.8571428571428571,\n",
              " 0,\n",
              " 0.4666666666666667,\n",
              " 0.38461538461538464,\n",
              " 1.0,\n",
              " 1.0,\n",
              " -3.3333333333333335,\n",
              " 0.6,\n",
              " 0.5,\n",
              " 3.0,\n",
              " 0.6,\n",
              " 0.6666666666666666,\n",
              " 0.6666666666666666,\n",
              " 1.0769230769230769,\n",
              " -0.23076923076923078,\n",
              " 0.46153846153846156,\n",
              " 0.0,\n",
              " 0.6923076923076923,\n",
              " 0.15789473684210525,\n",
              " -0.0,\n",
              " 0.23529411764705882,\n",
              " 1.0,\n",
              " -0.0,\n",
              " -1.0,\n",
              " 2.5,\n",
              " 2.3333333333333335,\n",
              " -0.125,\n",
              " 0.3333333333333333,\n",
              " 0.8333333333333334,\n",
              " 0,\n",
              " array([-0.5]),\n",
              " -4.0,\n",
              " 0.4666666666666667,\n",
              " 0.0,\n",
              " 1.2307692307692308,\n",
              " -1.0,\n",
              " -0.5,\n",
              " 0.38461538461538464,\n",
              " -0.1111111111111111,\n",
              " 1.25,\n",
              " -0.3333333333333333,\n",
              " 0.6666666666666666,\n",
              " 0.5714285714285714,\n",
              " 0.8,\n",
              " 0.2,\n",
              " -0.0,\n",
              " -0.4,\n",
              " 1.0,\n",
              " 0.5555555555555556,\n",
              " 0.7,\n",
              " 1.0,\n",
              " 0.625,\n",
              " 11.0,\n",
              " 0.3333333333333333,\n",
              " 0.07692307692307693,\n",
              " -0.8,\n",
              " 0.5,\n",
              " 0.5,\n",
              " 0.2222222222222222,\n",
              " 0.375,\n",
              " -2.3333333333333335,\n",
              " 0.8333333333333334,\n",
              " 1.5,\n",
              " -0.25,\n",
              " 0.2,\n",
              " 5.0,\n",
              " 0.5714285714285714,\n",
              " 0.5,\n",
              " 0.6666666666666666,\n",
              " 1.0,\n",
              " 0.9,\n",
              " 0,\n",
              " 1.1111111111111112,\n",
              " -1.5,\n",
              " 0.42857142857142855,\n",
              " -0.2857142857142857,\n",
              " -0.5,\n",
              " -0.0,\n",
              " 0.1111111111111111,\n",
              " 1.75,\n",
              " 0.25,\n",
              " 0,\n",
              " array([0.06666667]),\n",
              " 1.1,\n",
              " 1.1176470588235294,\n",
              " 1.0,\n",
              " 1.6666666666666667,\n",
              " -0.09090909090909091,\n",
              " array([0.5]),\n",
              " array([0.8125]),\n",
              " 1.4,\n",
              " 0.3,\n",
              " 1.0769230769230769,\n",
              " 0.6,\n",
              " 1.0,\n",
              " 0.2727272727272727,\n",
              " 0.38461538461538464,\n",
              " 0,\n",
              " 0.3,\n",
              " 0.09090909090909091,\n",
              " 2.0,\n",
              " -0.1,\n",
              " 0.5,\n",
              " 0.125,\n",
              " 1.0909090909090908,\n",
              " 0.5714285714285714,\n",
              " 3.0,\n",
              " -0.06666666666666667,\n",
              " 2.3333333333333335,\n",
              " 0.5555555555555556,\n",
              " -0.4,\n",
              " -0.5,\n",
              " 3.0,\n",
              " 0,\n",
              " 2.0,\n",
              " 0.5333333333333333,\n",
              " -0.21428571428571427,\n",
              " 0.2631578947368421,\n",
              " array([0.375]),\n",
              " 1.0,\n",
              " -0.16666666666666666,\n",
              " 1.5,\n",
              " 0.75,\n",
              " -1.0,\n",
              " 0.9,\n",
              " 0.2,\n",
              " 1.0909090909090908,\n",
              " 0.5,\n",
              " 12.0,\n",
              " 1.0,\n",
              " -0.07692307692307693,\n",
              " 2.3333333333333335,\n",
              " 0.5384615384615384,\n",
              " -0.6666666666666666,\n",
              " 0.5,\n",
              " 0.09090909090909091,\n",
              " 1.0909090909090908,\n",
              " 0,\n",
              " -0.375,\n",
              " -1.0,\n",
              " 0.6666666666666666,\n",
              " 0,\n",
              " array([0.7]),\n",
              " 0.0,\n",
              " 0,\n",
              " 2.0,\n",
              " -0.16666666666666666,\n",
              " 0.2631578947368421,\n",
              " 0.625,\n",
              " 0.8571428571428571,\n",
              " 0.4444444444444444,\n",
              " 0.75,\n",
              " -0.16666666666666666,\n",
              " -6.0,\n",
              " 0.16666666666666666,\n",
              " 0,\n",
              " 1.0,\n",
              " 0.8571428571428571,\n",
              " 0.6,\n",
              " -0.5,\n",
              " 0.5714285714285714,\n",
              " 0.2857142857142857,\n",
              " 0.5,\n",
              " 0.5,\n",
              " -7.0,\n",
              " -0.6666666666666666,\n",
              " 0.5,\n",
              " 0.4,\n",
              " -0.3333333333333333,\n",
              " 1.75,\n",
              " 3.0,\n",
              " 0.3333333333333333,\n",
              " 0.3333333333333333,\n",
              " 0.6111111111111112,\n",
              " -2.0,\n",
              " 0.9375,\n",
              " 5.0,\n",
              " 1.0,\n",
              " 1.1818181818181819,\n",
              " 0.0,\n",
              " -0.75,\n",
              " 0.16666666666666666,\n",
              " -0.6,\n",
              " -0.8,\n",
              " -0.5,\n",
              " -0.5,\n",
              " -6.0,\n",
              " 1.0,\n",
              " 10.0,\n",
              " 0,\n",
              " array([-0.54545455]),\n",
              " 0.6666666666666666,\n",
              " 0.9090909090909091,\n",
              " 5.0,\n",
              " 1.1428571428571428,\n",
              " 0.8181818181818182,\n",
              " 0.5294117647058824,\n",
              " -0.0,\n",
              " 1.0,\n",
              " 0.6666666666666666,\n",
              " -0.0,\n",
              " -0.0,\n",
              " 0.7647058823529411,\n",
              " 2.0,\n",
              " 0,\n",
              " 0,\n",
              " array([1.16666667]),\n",
              " 0.6666666666666666,\n",
              " -0.1,\n",
              " -4.0,\n",
              " 0.0,\n",
              " 0.08333333333333333,\n",
              " 0,\n",
              " 3.0,\n",
              " 2.0,\n",
              " 1.25,\n",
              " -2.0,\n",
              " 5.0,\n",
              " array([-0.08333333]),\n",
              " 1.6,\n",
              " 0.7142857142857143,\n",
              " -0.2,\n",
              " 0,\n",
              " 0.6153846153846154,\n",
              " -0.6666666666666666,\n",
              " 0.75,\n",
              " 0.5714285714285714,\n",
              " 0.3684210526315789,\n",
              " -1.0,\n",
              " 5.0,\n",
              " 0.3333333333333333,\n",
              " 4.0,\n",
              " 1.1666666666666667,\n",
              " 1.75,\n",
              " 1.4545454545454546,\n",
              " 0.8,\n",
              " -0.2,\n",
              " array([0.6]),\n",
              " -4.0,\n",
              " 2.3333333333333335,\n",
              " 4.0,\n",
              " 7.0,\n",
              " 1.0,\n",
              " -4.5,\n",
              " 0,\n",
              " 0.0,\n",
              " 0.5,\n",
              " -0.4,\n",
              " -0.0,\n",
              " 0.5,\n",
              " 4.0,\n",
              " 0.4444444444444444,\n",
              " 0.7,\n",
              " 0.09090909090909091,\n",
              " 0.75,\n",
              " 3.0,\n",
              " 0.875,\n",
              " -0.3,\n",
              " -1.6,\n",
              " 0,\n",
              " array([2.]),\n",
              " 0.75,\n",
              " 5.0,\n",
              " 2.0,\n",
              " -0.0,\n",
              " 3.0,\n",
              " 0.6666666666666666,\n",
              " -0.07142857142857142,\n",
              " 1.0,\n",
              " 0.25,\n",
              " -0.6,\n",
              " -0.5,\n",
              " 3.5,\n",
              " 0.8,\n",
              " 0.9285714285714286,\n",
              " 0,\n",
              " -0.08333333333333333,\n",
              " 0.4666666666666667,\n",
              " 0.9444444444444444,\n",
              " 1.0,\n",
              " 0.25,\n",
              " 1.5,\n",
              " 3.3333333333333335,\n",
              " 0.3333333333333333,\n",
              " 1.0,\n",
              " 4.666666666666667,\n",
              " 0.8888888888888888,\n",
              " -2.5,\n",
              " 0,\n",
              " 0,\n",
              " 1.6,\n",
              " 0.8947368421052632,\n",
              " 0.875,\n",
              " -0.6666666666666666,\n",
              " -0.0,\n",
              " array([0.64285714]),\n",
              " 0.9333333333333333,\n",
              " 0.29411764705882354,\n",
              " 0.6363636363636364,\n",
              " -3.0,\n",
              " 0.7,\n",
              " -5.0,\n",
              " 0.07692307692307693,\n",
              " 1.0,\n",
              " -5.0,\n",
              " 1.0,\n",
              " -4.0,\n",
              " array([0.26666667]),\n",
              " 1.6,\n",
              " 1.2222222222222223,\n",
              " 0.8235294117647058,\n",
              " 1.4,\n",
              " 7.0,\n",
              " 0.6666666666666666,\n",
              " -2.0,\n",
              " 0.25,\n",
              " 1.25,\n",
              " -0.1111111111111111,\n",
              " 0,\n",
              " 0.8333333333333334,\n",
              " 0.4444444444444444,\n",
              " array([-1.25]),\n",
              " 0.45454545454545453,\n",
              " -0.45454545454545453,\n",
              " 3.0,\n",
              " 4.0,\n",
              " -0.5,\n",
              " 2.75,\n",
              " array([0.5]),\n",
              " 0.5333333333333333,\n",
              " 2.0,\n",
              " 5.0,\n",
              " 3.0,\n",
              " 0.5555555555555556,\n",
              " array([0.57142857]),\n",
              " 0.2,\n",
              " 0.5,\n",
              " 1.0,\n",
              " -7.0,\n",
              " 0.2222222222222222,\n",
              " 1.0,\n",
              " 0.75,\n",
              " -1.0,\n",
              " -0.0,\n",
              " 0.6666666666666666,\n",
              " 0.3333333333333333,\n",
              " -3.0,\n",
              " 0,\n",
              " 0.5,\n",
              " 2.75,\n",
              " array([0.66666667]),\n",
              " -0.75,\n",
              " -0.5,\n",
              " -1.0,\n",
              " 0.5,\n",
              " 1.0,\n",
              " 0.2222222222222222,\n",
              " -0.1111111111111111,\n",
              " 0.15384615384615385,\n",
              " 0.3125,\n",
              " 0.8333333333333334,\n",
              " -0.5,\n",
              " 0,\n",
              " 0.625,\n",
              " 0.4,\n",
              " -1.0,\n",
              " 1.4444444444444444,\n",
              " 1.3333333333333333,\n",
              " 0.5,\n",
              " 2.3333333333333335,\n",
              " ...]"
            ]
          },
          "metadata": {},
          "execution_count": 123
        }
      ]
    },
    {
      "cell_type": "code",
      "source": [],
      "metadata": {
        "id": "LxuYR8WDKEFD"
      },
      "execution_count": null,
      "outputs": []
    }
  ]
}